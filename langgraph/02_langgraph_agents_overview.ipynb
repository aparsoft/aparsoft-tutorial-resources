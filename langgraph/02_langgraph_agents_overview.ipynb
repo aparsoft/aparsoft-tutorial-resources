{
 "cells": [
  {
   "cell_type": "markdown",
   "id": "127a80d9",
   "metadata": {
    "slideshow": {
     "slide_type": "slide"
    }
   },
   "source": [
    "# LangGraph - Complete Implementation Guide\n",
    "\n",
    "## Overview\n",
    "\n",
    "**LangGraph** is a low-level orchestration framework for building, managing, and deploying long-running, stateful AI agents. Released as version 1.0 in October 2025, it provides the infrastructure for building production-ready agent systems with comprehensive memory, human-in-the-loop capabilities, and durable execution."
   ]
  },
  {
   "cell_type": "markdown",
   "id": "fbdc7021",
   "metadata": {},
   "source": [
    "## Table of Contents\n",
    "\n",
    "1. [What's New in LangChain v0.3](#whats-new-in-langchain-v3)\n",
    "2. [Architecture Changes](#architecture-changes)\n",
    "3. [Package Structure](#package-structure)\n",
    "4. [Migration Guide](#migration-guide)\n",
    "5. [Key Features](#key-features)\n"
   ]
  },
  {
   "cell_type": "markdown",
   "id": "4cfae0b6",
   "metadata": {},
   "source": [
    "### Core Changes\n",
    "\n",
    "**1. Agent Implementation on LangGraph**\n",
    "- The new `create_agent` implementation is built on top of LangGraph\n",
    "- Takes advantage of the underlying agent runtime\n",
    "- Same high-level interface, different underpinning\n",
    "- Battle-tested in production by companies like Uber, LinkedIn, and Klarna\n",
    "\n",
    "**2. Pydantic 2 Migration**\n",
    "- Full upgrade from Pydantic 1 to Pydantic 2 internally\n",
    "- Pydantic 1 support dropped (reached end-of-life June 2024)\n",
    "- No need for bridges like `langchain_core.pydantic_v1`\n",
    "\n",
    "**3. Python Version Requirements**\n",
    "- Python 3.8 no longer supported (end-of-life October 2024)\n",
    "- Minimum Python version: 3.9+"
   ]
  },
  {
   "cell_type": "markdown",
   "id": "be9dd280",
   "metadata": {},
   "source": [
    "## Core Concepts\n",
    "\n",
    "### What is LangGraph?\n",
    "\n",
    "LangGraph provides:\n",
    "\n",
    "1. **Durable Execution**: Agents persist through failures and resume automatically\n",
    "2. **Human-in-the-Loop**: Inspect and modify agent state at any point\n",
    "3. **Comprehensive Memory**: Short-term and long-term persistent memory\n",
    "4. **Stateful Workflows**: Build complex, stateful agent architectures\n",
    "5. **Production-Ready**: Scalable infrastructure for production deployment\n",
    "\n",
    "### Key Benefits\n",
    "\n",
    "```bash\n",
    "# LangGraph doesn't abstract prompts or architecture\n",
    "# You have full control over:\n",
    "- Agent decision-making logic\n",
    "- State management\n",
    "- Tool calling patterns\n",
    "- Memory strategies\n",
    "- Human intervention points\n",
    "```\n",
    "\n",
    "## Quick Start\n",
    "\n",
    "### Installation\n",
    "\n",
    "```bash\n",
    "# Basic installation\n",
    "pip install langgraph\n",
    "\n",
    "# With checkpointing support\n",
    "pip install langgraph langgraph-checkpoint-postgres\n",
    "\n",
    "# Full installation with extras\n",
    "pip install \"langgraph[postgres]\"\n",
    "```"
   ]
  },
  {
   "cell_type": "markdown",
   "id": "1a30ee70",
   "metadata": {},
   "source": [
    "## Architecture\n",
    "\n",
    "### Graph-Based Design\n",
    "\n",
    "LangGraph uses a graph structure where:\n",
    "- **Nodes** represent processing steps (functions)\n",
    "- **Edges** represent data flow between nodes\n",
    "- **State** is shared across all nodes"
   ]
  },
  {
   "cell_type": "code",
   "execution_count": 1,
   "id": "572e798b",
   "metadata": {},
   "outputs": [],
   "source": [
    "# Create a secret openai key input in jupyter notebook\n",
    "import os\n",
    "from getpass import getpass\n",
    "\n",
    "# Securely input OpenAI API key\n",
    "if \"OPENAI_API_KEY\" not in os.environ:\n",
    "    os.environ[\"OPENAI_API_KEY\"] = getpass(\"Enter your OpenAI API key: \")"
   ]
  },
  {
   "cell_type": "code",
   "execution_count": 2,
   "id": "5b800ed5",
   "metadata": {},
   "outputs": [
    {
     "data": {
      "text/plain": [
       "{'messages': [HumanMessage(content='hi!', additional_kwargs={}, response_metadata={}, id='63401bb9-094b-45b7-8fa7-fc550828e275'),\n",
       "  AIMessage(content='hello world', additional_kwargs={}, response_metadata={}, id='b25b4f39-7932-48e6-ab03-83f255cf5ad9')]}"
      ]
     },
     "execution_count": 2,
     "metadata": {},
     "output_type": "execute_result"
    }
   ],
   "source": [
    "from langgraph.graph import StateGraph, MessagesState, START, END\n",
    "\n",
    "\n",
    "def mock_llm(state: MessagesState):\n",
    "    return {\"messages\": [{\"role\": \"ai\", \"content\": \"hello world\"}]}\n",
    "\n",
    "\n",
    "graph = StateGraph(MessagesState)\n",
    "graph.add_node(mock_llm)\n",
    "graph.add_edge(START, \"mock_llm\")\n",
    "graph.add_edge(\"mock_llm\", END)\n",
    "graph = graph.compile()\n",
    "\n",
    "graph.invoke({\"messages\": [{\"role\": \"user\", \"content\": \"hi!\"}]})"
   ]
  },
  {
   "cell_type": "markdown",
   "id": "be37c8f4",
   "metadata": {},
   "source": [
    "### Step 0: Define tools and model"
   ]
  },
  {
   "cell_type": "code",
   "execution_count": 3,
   "id": "e10ed61c",
   "metadata": {},
   "outputs": [],
   "source": [
    "from langchain_core.tools import tool\n",
    "from langchain.chat_models import init_chat_model\n",
    "\n",
    "llm = init_chat_model(\"openai:o4-mini\")\n",
    "\n",
    "\n",
    "# Define tools\n",
    "@tool\n",
    "def multiply(a: int, b: int) -> int:\n",
    "    \"\"\"Multiply a and b.\n",
    "\n",
    "    Args:\n",
    "        a: first int\n",
    "        b: second int\n",
    "    \"\"\"\n",
    "    return a * b\n",
    "\n",
    "\n",
    "@tool\n",
    "def add(a: int, b: int) -> int:\n",
    "    \"\"\"Adds a and b.\n",
    "\n",
    "    Args:\n",
    "        a: first int\n",
    "        b: second int\n",
    "    \"\"\"\n",
    "    return a + b\n",
    "\n",
    "\n",
    "@tool\n",
    "def divide(a: int, b: int) -> float:\n",
    "    \"\"\"Divide a and b.\n",
    "\n",
    "    Args:\n",
    "        a: first int\n",
    "        b: second int\n",
    "    \"\"\"\n",
    "    return a / b\n",
    "\n",
    "\n",
    "# Augment the LLM with tools\n",
    "tools = [add, multiply, divide]\n",
    "tools_by_name = {tool.name: tool for tool in tools}\n",
    "llm_with_tools = llm.bind_tools(tools)"
   ]
  },
  {
   "cell_type": "code",
   "execution_count": 4,
   "id": "822df671",
   "metadata": {},
   "outputs": [
    {
     "data": {
      "text/plain": [
       "{'add': StructuredTool(name='add', description='Adds a and b.\\n\\n    Args:\\n        a: first int\\n        b: second int', args_schema=<class 'langchain_core.utils.pydantic.add'>, func=<function add at 0x7c5cfe81ba60>),\n",
       " 'multiply': StructuredTool(name='multiply', description='Multiply a and b.\\n\\n    Args:\\n        a: first int\\n        b: second int', args_schema=<class 'langchain_core.utils.pydantic.multiply'>, func=<function multiply at 0x7c5cffa92ac0>),\n",
       " 'divide': StructuredTool(name='divide', description='Divide a and b.\\n\\n    Args:\\n        a: first int\\n        b: second int', args_schema=<class 'langchain_core.utils.pydantic.divide'>, func=<function divide at 0x7c5cfe7eb740>)}"
      ]
     },
     "execution_count": 4,
     "metadata": {},
     "output_type": "execute_result"
    }
   ],
   "source": [
    "tools_by_name"
   ]
  },
  {
   "cell_type": "code",
   "execution_count": 5,
   "id": "afceb4d7",
   "metadata": {},
   "outputs": [
    {
     "data": {
      "text/plain": [
       "RunnableBinding(bound=ChatOpenAI(client=<openai.resources.chat.completions.completions.Completions object at 0x7c5cfed87410>, async_client=<openai.resources.chat.completions.completions.AsyncCompletions object at 0x7c5cfe80bd40>, root_client=<openai.OpenAI object at 0x7c5cff659fa0>, root_async_client=<openai.AsyncOpenAI object at 0x7c5cfec6de20>, model_name='o4-mini', model_kwargs={}, openai_api_key=SecretStr('**********')), kwargs={'tools': [{'type': 'function', 'function': {'name': 'add', 'description': 'Adds a and b.\\n\\n    Args:\\n        a: first int\\n        b: second int', 'parameters': {'properties': {'a': {'type': 'integer'}, 'b': {'type': 'integer'}}, 'required': ['a', 'b'], 'type': 'object'}}}, {'type': 'function', 'function': {'name': 'multiply', 'description': 'Multiply a and b.\\n\\n    Args:\\n        a: first int\\n        b: second int', 'parameters': {'properties': {'a': {'type': 'integer'}, 'b': {'type': 'integer'}}, 'required': ['a', 'b'], 'type': 'object'}}}, {'type': 'function', 'function': {'name': 'divide', 'description': 'Divide a and b.\\n\\n    Args:\\n        a: first int\\n        b: second int', 'parameters': {'properties': {'a': {'type': 'integer'}, 'b': {'type': 'integer'}}, 'required': ['a', 'b'], 'type': 'object'}}}]}, config={}, config_factories=[])"
      ]
     },
     "execution_count": 5,
     "metadata": {},
     "output_type": "execute_result"
    }
   ],
   "source": [
    "llm_with_tools"
   ]
  },
  {
   "cell_type": "markdown",
   "id": "9e64f835",
   "metadata": {},
   "source": [
    "### Step 1: Define state"
   ]
  },
  {
   "cell_type": "code",
   "execution_count": 6,
   "id": "60225916",
   "metadata": {},
   "outputs": [],
   "source": [
    "from langchain_core.messages import AnyMessage\n",
    "from typing_extensions import TypedDict, Annotated\n",
    "import operator\n",
    "\n",
    "\n",
    "class MessagesState(TypedDict):\n",
    "    messages: Annotated[list[AnyMessage], operator.add]\n",
    "    llm_calls: int"
   ]
  },
  {
   "cell_type": "markdown",
   "id": "a18c9876",
   "metadata": {},
   "source": [
    "### Step 2: Define model node"
   ]
  },
  {
   "cell_type": "code",
   "execution_count": 7,
   "id": "0d9e7b19",
   "metadata": {},
   "outputs": [],
   "source": [
    "from langchain_core.messages import SystemMessage\n",
    "\n",
    "\n",
    "def llm_call(state: dict):\n",
    "    \"\"\"LLM decides whether to call a tool or not\"\"\"\n",
    "\n",
    "    return {\n",
    "        \"messages\": [\n",
    "            llm_with_tools.invoke(\n",
    "                [\n",
    "                    SystemMessage(\n",
    "                        content=\"You are a helpful assistant tasked with performing arithmetic on a set of inputs.\"\n",
    "                    )\n",
    "                ]\n",
    "                + state[\"messages\"]\n",
    "            )\n",
    "        ],\n",
    "        \"llm_calls\": state.get(\"llm_calls\", 0) + 1,\n",
    "    }"
   ]
  },
  {
   "cell_type": "code",
   "execution_count": 8,
   "id": "485d9b2d",
   "metadata": {},
   "outputs": [],
   "source": [
    "ans = llm_call({\"messages\": [{\"role\": \"user\", \"content\": \"What is north?\"}]})\n"
   ]
  },
  {
   "cell_type": "code",
   "execution_count": 9,
   "id": "1f1e32e3",
   "metadata": {},
   "outputs": [
    {
     "data": {
      "text/plain": [
       "{'messages': [AIMessage(content='North is one of the four primary (cardinal) compass directions. Here are a few ways to think about it:\\n\\n1. Geographic North  \\n   – It points toward Earth’s North Pole, the point where the planet’s axis of rotation meets its surface in the Northern Hemisphere.  \\n   – On most maps (in Western cartography), north is oriented “up.”  \\n\\n2. Magnetic North  \\n   – A compass needle actually aligns with Earth’s magnetic field, pointing toward what’s called Magnetic North.  \\n   – Magnetic North moves slightly over time due to changes in Earth’s core.  \\n\\n3. Usage  \\n   – Navigation: “Head north” means to travel toward higher latitudes (toward the Pole).  \\n   – Orientation: If you stand facing north, east will be on your right, west on your left, and south directly behind you.  \\n\\nIn everyday life, knowing where north is lets you orient maps, plan routes, and understand how the Sun’s path changes with the seasons (it rises generally in the east and sets in the west, arcing across southern skies in the Northern Hemisphere).', additional_kwargs={'refusal': None}, response_metadata={'token_usage': {'completion_tokens': 306, 'prompt_tokens': 150, 'total_tokens': 456, 'completion_tokens_details': {'accepted_prediction_tokens': 0, 'audio_tokens': 0, 'reasoning_tokens': 64, 'rejected_prediction_tokens': 0}, 'prompt_tokens_details': {'audio_tokens': 0, 'cached_tokens': 0}}, 'model_name': 'o4-mini-2025-04-16', 'system_fingerprint': None, 'id': 'chatcmpl-CMDvrRy4NcvclUNquKLxkGF3kpk8z', 'service_tier': 'default', 'finish_reason': 'stop', 'logprobs': None}, id='run--1453ef31-7672-4899-84e8-754a9d87e4c1-0', usage_metadata={'input_tokens': 150, 'output_tokens': 306, 'total_tokens': 456, 'input_token_details': {'audio': 0, 'cache_read': 0}, 'output_token_details': {'audio': 0, 'reasoning': 64}})],\n",
       " 'llm_calls': 1}"
      ]
     },
     "execution_count": 9,
     "metadata": {},
     "output_type": "execute_result"
    }
   ],
   "source": [
    "ans"
   ]
  },
  {
   "cell_type": "markdown",
   "id": "f4ea9eb6",
   "metadata": {},
   "source": [
    "### Step 3: Define tool node"
   ]
  },
  {
   "cell_type": "code",
   "execution_count": 10,
   "id": "a8fb5113",
   "metadata": {},
   "outputs": [],
   "source": [
    "from langchain_core.messages import ToolMessage\n",
    "\n",
    "\n",
    "def tool_node(state: dict):\n",
    "    \"\"\"Performs the tool call\"\"\"\n",
    "\n",
    "    result = []\n",
    "    for tool_call in state[\"messages\"][-1].tool_calls:\n",
    "        tool = tools_by_name[tool_call[\"name\"]]\n",
    "        observation = tool.invoke(tool_call[\"args\"])\n",
    "        result.append(ToolMessage(content=observation, tool_call_id=tool_call[\"id\"]))\n",
    "    return {\"messages\": result}"
   ]
  },
  {
   "cell_type": "code",
   "execution_count": 11,
   "id": "98c1aace",
   "metadata": {},
   "outputs": [
    {
     "data": {
      "text/plain": [
       "{'messages': []}"
      ]
     },
     "execution_count": 11,
     "metadata": {},
     "output_type": "execute_result"
    }
   ],
   "source": [
    "tool_node({\"messages\": ans[\"messages\"]})"
   ]
  },
  {
   "cell_type": "markdown",
   "id": "ebf59974",
   "metadata": {},
   "source": [
    "### Step 4: Define logic to determine whether to end"
   ]
  },
  {
   "cell_type": "code",
   "execution_count": 12,
   "id": "acbce17e",
   "metadata": {},
   "outputs": [],
   "source": [
    "from typing import Literal\n",
    "from langgraph.graph import StateGraph, START, END\n",
    "\n",
    "\n",
    "# Conditional edge function to route to the tool node or end \n",
    "# based upon whether the LLM made a tool call\n",
    "def should_continue(state: MessagesState) -> Literal[\"tool_node\", END]:\n",
    "    \"\"\"Decide if we should continue the loop or stop based upon whether the LLM made a tool call\"\"\"\n",
    "\n",
    "    messages = state[\"messages\"]\n",
    "    last_message = messages[-1]\n",
    "    # If the LLM makes a tool call, then perform an action\n",
    "    if last_message.tool_calls:\n",
    "        return \"tool_node\"\n",
    "    # Otherwise, we stop (reply to the user)\n",
    "    return END"
   ]
  },
  {
   "cell_type": "code",
   "execution_count": 13,
   "id": "3a8afbf3",
   "metadata": {},
   "outputs": [
    {
     "data": {
      "text/plain": [
       "'__end__'"
      ]
     },
     "execution_count": 13,
     "metadata": {},
     "output_type": "execute_result"
    }
   ],
   "source": [
    "should_continue({\"messages\": ans[\"messages\"]})"
   ]
  },
  {
   "cell_type": "markdown",
   "id": "7cbf2449",
   "metadata": {},
   "source": [
    "### Step 5: Build agent"
   ]
  },
  {
   "cell_type": "code",
   "execution_count": 14,
   "id": "c09b846b",
   "metadata": {},
   "outputs": [],
   "source": [
    "# Build workflow\n",
    "agent_builder = StateGraph(MessagesState)\n",
    "\n",
    "# Add nodes\n",
    "agent_builder.add_node(\"llm_call\", llm_call)\n",
    "agent_builder.add_node(\"tool_node\", tool_node)\n",
    "\n",
    "# Add edges to connect nodes\n",
    "agent_builder.add_edge(START, \"llm_call\")\n",
    "agent_builder.add_conditional_edges(\"llm_call\", should_continue, [\"tool_node\", END])\n",
    "agent_builder.add_edge(\"tool_node\", \"llm_call\")\n",
    "\n",
    "# Compile the agent\n",
    "agent = agent_builder.compile()"
   ]
  },
  {
   "cell_type": "markdown",
   "id": "a77fec09",
   "metadata": {},
   "source": [
    "### Visualize the agent"
   ]
  },
  {
   "cell_type": "code",
   "execution_count": 15,
   "id": "43830572",
   "metadata": {},
   "outputs": [
    {
     "data": {
      "image/png": "[encoded data removed]",
      "text/plain": [
       "<IPython.core.display.Image object>"
      ]
     },
     "metadata": {},
     "output_type": "display_data"
    }
   ],
   "source": [
    "from IPython.display import Image, display\n",
    "\n",
    "display(Image(agent.get_graph(xray=True).draw_mermaid_png()))"
   ]
  },
  {
   "cell_type": "markdown",
   "id": "6ba08b2b",
   "metadata": {},
   "source": [
    "### Invoke the agent"
   ]
  },
  {
   "cell_type": "code",
   "execution_count": 16,
   "id": "106fe5b2",
   "metadata": {},
   "outputs": [
    {
     "name": "stdout",
     "output_type": "stream",
     "text": [
      "================================\u001b[1m Human Message \u001b[0m=================================\n",
      "\n",
      "Add 3 and 4.\n",
      "==================================\u001b[1m Ai Message \u001b[0m==================================\n",
      "Tool Calls:\n",
      "  add (call_pAtRZOd2e9yhPNlnsM7m6AFz)\n",
      " Call ID: call_pAtRZOd2e9yhPNlnsM7m6AFz\n",
      "  Args:\n",
      "    a: 3\n",
      "    b: 4\n",
      "=================================\u001b[1m Tool Message \u001b[0m=================================\n",
      "\n",
      "7\n",
      "==================================\u001b[1m Ai Message \u001b[0m==================================\n",
      "\n",
      "The sum of 3 and 4 is 7.\n"
     ]
    }
   ],
   "source": [
    "from langchain_core.messages import HumanMessage\n",
    "\n",
    "messages = [HumanMessage(content=\"Add 3 and 4.\")]\n",
    "messages = agent.invoke({\"messages\": messages})\n",
    "for m in messages[\"messages\"]:\n",
    "    m.pretty_print()"
   ]
  },
  {
   "cell_type": "code",
   "execution_count": 17,
   "id": "8dedf232",
   "metadata": {},
   "outputs": [
    {
     "name": "stdout",
     "output_type": "stream",
     "text": [
      "{'call_llm': AIMessage(content='', additional_kwargs={'tool_calls': [{'id': 'call_RUW4Mx1inY2aQmgUP69mtYkE', 'function': {'arguments': '{\"a\":3,\"b\":4}', 'name': 'add'}, 'type': 'function'}], 'refusal': None}, response_metadata={'token_usage': {'completion_tokens': 90, 'prompt_tokens': 153, 'total_tokens': 243, 'completion_tokens_details': {'accepted_prediction_tokens': 0, 'audio_tokens': 0, 'reasoning_tokens': 64, 'rejected_prediction_tokens': 0}, 'prompt_tokens_details': {'audio_tokens': 0, 'cached_tokens': 0}}, 'model_name': 'o4-mini-2025-04-16', 'system_fingerprint': None, 'id': 'chatcmpl-CMDvzXhvRN8GidDbj4AfFL94c2uuS', 'service_tier': 'default', 'finish_reason': 'tool_calls', 'logprobs': None}, id='run--3bd9aec1-c168-4acc-a9ad-7ab28fa419b6-0', tool_calls=[{'name': 'add', 'args': {'a': 3, 'b': 4}, 'id': 'call_RUW4Mx1inY2aQmgUP69mtYkE', 'type': 'tool_call'}], usage_metadata={'input_tokens': 153, 'output_tokens': 90, 'total_tokens': 243, 'input_token_details': {'audio': 0, 'cache_read': 0}, 'output_token_details': {'audio': 0, 'reasoning': 64}})}\n",
      "\n",
      "\n",
      "{'call_tool': ToolMessage(content='7', name='add', tool_call_id='call_RUW4Mx1inY2aQmgUP69mtYkE')}\n",
      "\n",
      "\n",
      "{'call_llm': AIMessage(content='The sum of 3 and 4 is 7.', additional_kwargs={'refusal': None}, response_metadata={'token_usage': {'completion_tokens': 24, 'prompt_tokens': 184, 'total_tokens': 208, 'completion_tokens_details': {'accepted_prediction_tokens': 0, 'audio_tokens': 0, 'reasoning_tokens': 0, 'rejected_prediction_tokens': 0}, 'prompt_tokens_details': {'audio_tokens': 0, 'cached_tokens': 0}}, 'model_name': 'o4-mini-2025-04-16', 'system_fingerprint': None, 'id': 'chatcmpl-CMDw2jjx7KSdSuYxymJ37NfgMHvNW', 'service_tier': 'default', 'finish_reason': 'stop', 'logprobs': None}, id='run--37118f9e-6bdf-460a-9434-79d454ed9a2c-0', usage_metadata={'input_tokens': 184, 'output_tokens': 24, 'total_tokens': 208, 'input_token_details': {'audio': 0, 'cache_read': 0}, 'output_token_details': {'audio': 0, 'reasoning': 0}})}\n",
      "\n",
      "\n",
      "{'agent': [HumanMessage(content='Add 3 and 4.', additional_kwargs={}, response_metadata={}, id='c2690201-ea8b-46f0-97f3-f0bc065eebfb'), AIMessage(content='', additional_kwargs={'tool_calls': [{'id': 'call_RUW4Mx1inY2aQmgUP69mtYkE', 'function': {'arguments': '{\"a\":3,\"b\":4}', 'name': 'add'}, 'type': 'function'}], 'refusal': None}, response_metadata={'token_usage': {'completion_tokens': 90, 'prompt_tokens': 153, 'total_tokens': 243, 'completion_tokens_details': {'accepted_prediction_tokens': 0, 'audio_tokens': 0, 'reasoning_tokens': 64, 'rejected_prediction_tokens': 0}, 'prompt_tokens_details': {'audio_tokens': 0, 'cached_tokens': 0}}, 'model_name': 'o4-mini-2025-04-16', 'system_fingerprint': None, 'id': 'chatcmpl-CMDvzXhvRN8GidDbj4AfFL94c2uuS', 'service_tier': 'default', 'finish_reason': 'tool_calls', 'logprobs': None}, id='run--3bd9aec1-c168-4acc-a9ad-7ab28fa419b6-0', tool_calls=[{'name': 'add', 'args': {'a': 3, 'b': 4}, 'id': 'call_RUW4Mx1inY2aQmgUP69mtYkE', 'type': 'tool_call'}], usage_metadata={'input_tokens': 153, 'output_tokens': 90, 'total_tokens': 243, 'input_token_details': {'audio': 0, 'cache_read': 0}, 'output_token_details': {'audio': 0, 'reasoning': 64}}), ToolMessage(content='7', name='add', id='e3ab8037-3b04-43ca-9525-739f9abf067e', tool_call_id='call_RUW4Mx1inY2aQmgUP69mtYkE'), AIMessage(content='The sum of 3 and 4 is 7.', additional_kwargs={'refusal': None}, response_metadata={'token_usage': {'completion_tokens': 24, 'prompt_tokens': 184, 'total_tokens': 208, 'completion_tokens_details': {'accepted_prediction_tokens': 0, 'audio_tokens': 0, 'reasoning_tokens': 0, 'rejected_prediction_tokens': 0}, 'prompt_tokens_details': {'audio_tokens': 0, 'cached_tokens': 0}}, 'model_name': 'o4-mini-2025-04-16', 'system_fingerprint': None, 'id': 'chatcmpl-CMDw2jjx7KSdSuYxymJ37NfgMHvNW', 'service_tier': 'default', 'finish_reason': 'stop', 'logprobs': None}, id='run--37118f9e-6bdf-460a-9434-79d454ed9a2c-0', usage_metadata={'input_tokens': 184, 'output_tokens': 24, 'total_tokens': 208, 'input_token_details': {'audio': 0, 'cache_read': 0}, 'output_token_details': {'audio': 0, 'reasoning': 0}})]}\n",
      "\n",
      "\n"
     ]
    }
   ],
   "source": [
    "# Step 0: Define tools and model\n",
    "\n",
    "from langchain_core.tools import tool\n",
    "from langchain.chat_models import init_chat_model\n",
    "\n",
    "# Define tools\n",
    "@tool\n",
    "def multiply(a: int, b: int) -> int:\n",
    "    \"\"\"Multiply a and b.\n",
    "\n",
    "    Args:\n",
    "        a: first int\n",
    "        b: second int\n",
    "    \"\"\"\n",
    "    return a * b\n",
    "\n",
    "\n",
    "@tool\n",
    "def add(a: int, b: int) -> int:\n",
    "    \"\"\"Adds a and b.\n",
    "\n",
    "    Args:\n",
    "        a: first int\n",
    "        b: second int\n",
    "    \"\"\"\n",
    "    return a + b\n",
    "\n",
    "\n",
    "@tool\n",
    "def divide(a: int, b: int) -> float:\n",
    "    \"\"\"Divide a and b.\n",
    "\n",
    "    Args:\n",
    "        a: first int\n",
    "        b: second int\n",
    "    \"\"\"\n",
    "    return a / b\n",
    "\n",
    "\n",
    "# Augment the LLM with tools\n",
    "tools = [add, multiply, divide]\n",
    "tools_by_name = {tool.name: tool for tool in tools}\n",
    "llm_with_tools = llm.bind_tools(tools)\n",
    "\n",
    "from langgraph.graph import add_messages\n",
    "from langchain_core.messages import (\n",
    "    SystemMessage,\n",
    "    HumanMessage,\n",
    "    BaseMessage,\n",
    "    ToolCall,\n",
    ")\n",
    "from langgraph.func import entrypoint, task\n",
    "\n",
    "\n",
    "# Step 1: define model node\n",
    "@task\n",
    "def call_llm(messages: list[BaseMessage]):\n",
    "    \"\"\"LLM decides whether to call a tool or not\"\"\"\n",
    "    return llm_with_tools.invoke(\n",
    "        [\n",
    "            SystemMessage(\n",
    "                content=\"You are a helpful assistant tasked with performing arithmetic on a set of inputs.\"\n",
    "            )\n",
    "        ]\n",
    "        + messages\n",
    "    )\n",
    "\n",
    "\n",
    "# Step 2: define tool node\n",
    "@task\n",
    "def call_tool(tool_call: ToolCall):\n",
    "    \"\"\"Performs the tool call\"\"\"\n",
    "    tool = tools_by_name[tool_call[\"name\"]]\n",
    "    return tool.invoke(tool_call)\n",
    "\n",
    "\n",
    "# Step 3: define agent\n",
    "@entrypoint()\n",
    "def agent(messages: list[BaseMessage]):\n",
    "    llm_response = call_llm(messages).result()\n",
    "\n",
    "    while True:\n",
    "        if not llm_response.tool_calls:\n",
    "            break\n",
    "\n",
    "        # Execute tools\n",
    "        tool_result_futures = [\n",
    "            call_tool(tool_call) for tool_call in llm_response.tool_calls\n",
    "        ]\n",
    "        tool_results = [fut.result() for fut in tool_result_futures]\n",
    "        messages = add_messages(messages, [llm_response, *tool_results])\n",
    "        llm_response = call_llm(messages).result()\n",
    "\n",
    "    messages = add_messages(messages, llm_response)\n",
    "    return messages\n",
    "\n",
    "\n",
    "# Invoke\n",
    "messages = [HumanMessage(content=\"Add 3 and 4.\")]\n",
    "for chunk in agent.stream(messages, stream_mode=\"updates\"):\n",
    "    print(chunk)\n",
    "    print(\"\\n\")"
   ]
  }
 ],
 "metadata": {
  "kernelspec": {
   "display_name": "venv",
   "language": "python",
   "name": "python3"
  },
  "language_info": {
   "codemirror_mode": {
    "name": "ipython",
    "version": 3
   },
   "file_extension": ".py",
   "mimetype": "text/x-python",
   "name": "python",
   "nbconvert_exporter": "python",
   "pygments_lexer": "ipython3",
   "version": "3.12.3"
  }
 },
 "nbformat": 4,
 "nbformat_minor": 5
}
