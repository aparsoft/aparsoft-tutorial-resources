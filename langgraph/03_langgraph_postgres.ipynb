{
 "cells": [
  {
   "cell_type": "markdown",
   "id": "6eb2fb91",
   "metadata": {},
   "source": [
    "# Persistence: langgraph-Persistence\n",
    "\n",
    "LangGraph has a built-in persistence layer, implemented through checkpointers. When you compile a graph with a checkpointer, the checkpointer saves a `checkpoint` of the graph state at every super-step. Those checkpoints are saved to a `thread`, which can be accessed after graph execution. Because `threads` allow access to graph's state after execution, several powerful capabilities including human-in-the-loop, memory, time travel, and fault-tolerance are all possible. Below, we'll discuss each of these concepts in more detail."
   ]
  },
  {
   "cell_type": "markdown",
   "id": "b26211c7",
   "metadata": {},
   "source": [
    "![png](03_langgraph_persistance_files/checkpoints.png)"
   ]
  },
  {
   "cell_type": "markdown",
   "id": "f120c1a4",
   "metadata": {},
   "source": [
    "## Threads\n",
    "\n",
    "A thread is a unique ID or thread identifier assigned to each checkpoint saved by a checkpointer. It contains the accumulated state of a sequence of [runs](/langgraph-platform/assistants#execution). When a run is executed, the [state](/oss/python/langgraph/graph-api#state) of the underlying graph of the assistant will be persisted to the thread.\n",
    "\n",
    "When invoking a graph with a checkpointer, you **must** specify a `thread_id` as part of the `configurable` portion of the config.\n",
    "\n",
    "```python\n",
    "{\"configurable\": {\"thread_id\": \"1\"}}\n",
    "```\n",
    "\n",
    "A thread's current and historical state can be retrieved. To persist state, a thread must be created prior to executing a run. The LangGraph Platform API provides several endpoints for creating and managing threads and thread state. See the [API reference](https://langchain-ai.github.io/langgraph/cloud/reference/api/) for more details."
   ]
  },
  {
   "cell_type": "markdown",
   "id": "7011c53c",
   "metadata": {},
   "source": [
    "## Checkpoints\n",
    "\n",
    "The state of a thread at a particular point in time is called a checkpoint. Checkpoint is a snapshot of the graph state saved at each super-step and is represented by `StateSnapshot` object with the following key properties:\n",
    "\n",
    "* `config`: Config associated with this checkpoint.\n",
    "* `metadata`: Metadata associated with this checkpoint.\n",
    "* `values`: Values of the state channels at this point in time.\n",
    "* `next` A tuple of the node names to execute next in the graph.\n",
    "* `tasks`: A tuple of `PregelTask` objects that contain information about next tasks to be executed. If the step was previously attempted, it will include error information. If a graph was interrupted [dynamically](/oss/python/langgraph/add-human-in-the-loop#pause-using-interrupt) from within a node, tasks will contain additional data associated with interrupts.\n",
    "\n",
    "Checkpoints are persisted and can be used to restore the state of a thread at a later time.\n",
    "\n",
    "Let's see what checkpoints are saved when a simple graph is invoked as follows:"
   ]
  },
  {
   "cell_type": "code",
   "execution_count": 1,
   "id": "53c5373d",
   "metadata": {},
   "outputs": [],
   "source": [
    "from langgraph.graph import StateGraph, START, END\n",
    "from langgraph.checkpoint.memory import InMemorySaver\n",
    "from langchain_core.runnables import RunnableConfig\n",
    "from typing import Annotated\n",
    "from typing_extensions import TypedDict\n",
    "from operator import add\n",
    "\n",
    "class State(TypedDict):\n",
    "    foo: str\n",
    "    bar: Annotated[list[str], add]\n",
    "\n",
    "def node_a(state: State):\n",
    "    return {\"foo\": \"a\", \"bar\": [\"a\"]}\n",
    "\n",
    "def node_b(state: State):\n",
    "    return {\"foo\": \"b\", \"bar\": [\"b\"]}\n",
    "\n",
    "\n",
    "workflow = StateGraph(State)\n",
    "workflow.add_node(node_a)\n",
    "workflow.add_node(node_b)\n",
    "workflow.add_edge(START, \"node_a\")\n",
    "workflow.add_edge(\"node_a\", \"node_b\")\n",
    "workflow.add_edge(\"node_b\", END)\n",
    "\n",
    "checkpointer = InMemorySaver()\n",
    "graph = workflow.compile(checkpointer=checkpointer)\n",
    "\n",
    "config: RunnableConfig = {\"configurable\": {\"thread_id\": \"1\"}}"
   ]
  },
  {
   "cell_type": "code",
   "execution_count": 2,
   "id": "c7a8f53b",
   "metadata": {},
   "outputs": [
    {
     "data": {
      "text/plain": [
       "{'foo': 'b', 'bar': ['a', 'b']}"
      ]
     },
     "execution_count": 2,
     "metadata": {},
     "output_type": "execute_result"
    }
   ],
   "source": [
    "graph.invoke({\"foo\": \"\"}, config)"
   ]
  },
  {
   "cell_type": "markdown",
   "id": "ed19a4f8",
   "metadata": {},
   "source": [
    "After we run the graph, we expect to see exactly 4 checkpoints:\n",
    "\n",
    "* empty checkpoint with `START` as the next node to be executed\n",
    "* checkpoint with the user input `{'foo': '', 'bar': []}` and `node_a` as the next node to be executed\n",
    "* checkpoint with the outputs of `node_a` `{'foo': 'a', 'bar': ['a']}` and `node_b` as the next node to be executed\n",
    "* checkpoint with the outputs of `node_b` `{'foo': 'b', 'bar': ['a', 'b']}` and no next nodes to be executed\n",
    "\n",
    "Note that we `bar` channel values contain outputs from both nodes as we have a reducer for `bar` channel."
   ]
  },
  {
   "cell_type": "markdown",
   "id": "3831ef66",
   "metadata": {},
   "source": [
    "### Get state\n",
    "\n",
    "When interacting with the saved graph state, you **must** specify a [thread identifier](#threads). You can view the *latest* state of the graph by calling `graph.get_state(config)`. This will return a `StateSnapshot` object that corresponds to the latest checkpoint associated with the thread ID provided in the config or a checkpoint associated with a checkpoint ID for the thread, if provided."
   ]
  },
  {
   "cell_type": "code",
   "execution_count": 3,
   "id": "542708c6",
   "metadata": {},
   "outputs": [
    {
     "data": {
      "text/plain": [
       "StateSnapshot(values={}, next=(), config={'configurable': {'thread_id': '1', 'checkpoint_id': '1ef663ba-28fe-6528-8002-5a559208592c'}}, metadata=None, created_at=None, parent_config=None, tasks=(), interrupts=())"
      ]
     },
     "execution_count": 3,
     "metadata": {},
     "output_type": "execute_result"
    }
   ],
   "source": [
    "# get the latest state snapshot\n",
    "config = {\"configurable\": {\"thread_id\": \"1\"}}\n",
    "graph.get_state(config)\n",
    "\n",
    "# get a state snapshot for a specific checkpoint_id\n",
    "config = {\n",
    "    \"configurable\": {\n",
    "        \"thread_id\": \"1\",\n",
    "        \"checkpoint_id\": \"1ef663ba-28fe-6528-8002-5a559208592c\",\n",
    "    }\n",
    "}\n",
    "graph.get_state(config)"
   ]
  },
  {
   "cell_type": "markdown",
   "id": "9f5fbc5f",
   "metadata": {},
   "source": [
    "### Get state history\n",
    "\n",
    "You can get the full history of the graph execution for a given thread by calling `graph.get_state_history(config)`. This will return a list of `StateSnapshot` objects associated with the thread ID provided in the config. Importantly, the checkpoints will be ordered chronologically with the most recent checkpoint / `StateSnapshot` being the first in the list."
   ]
  },
  {
   "cell_type": "code",
   "execution_count": 4,
   "id": "065511b9",
   "metadata": {},
   "outputs": [
    {
     "data": {
      "text/plain": [
       "[StateSnapshot(values={'foo': 'b', 'bar': ['a', 'b']}, next=(), config={'configurable': {'thread_id': '1', 'checkpoint_ns': '', 'checkpoint_id': '1f09fb98-ec08-6668-8002-ea9d3e23d7d6'}}, metadata={'source': 'loop', 'step': 2, 'parents': {}}, created_at='2025-10-02T17:59:36.123343+00:00', parent_config={'configurable': {'thread_id': '1', 'checkpoint_ns': '', 'checkpoint_id': '1f09fb98-ec07-6103-8001-84fdee3a23c4'}}, tasks=(), interrupts=()),\n",
       " StateSnapshot(values={'foo': 'a', 'bar': ['a']}, next=('node_b',), config={'configurable': {'thread_id': '1', 'checkpoint_ns': '', 'checkpoint_id': '1f09fb98-ec07-6103-8001-84fdee3a23c4'}}, metadata={'source': 'loop', 'step': 1, 'parents': {}}, created_at='2025-10-02T17:59:36.122793+00:00', parent_config={'configurable': {'thread_id': '1', 'checkpoint_ns': '', 'checkpoint_id': '1f09fb98-ec05-63a7-8000-9d2dd641577e'}}, tasks=(PregelTask(id='5122a912-d89f-fa69-df85-60ea0a8b0bd5', name='node_b', path=('__pregel_pull', 'node_b'), error=None, interrupts=(), state=None, result={'foo': 'b', 'bar': ['b']}),), interrupts=()),\n",
       " StateSnapshot(values={'foo': '', 'bar': []}, next=('node_a',), config={'configurable': {'thread_id': '1', 'checkpoint_ns': '', 'checkpoint_id': '1f09fb98-ec05-63a7-8000-9d2dd641577e'}}, metadata={'source': 'loop', 'step': 0, 'parents': {}}, created_at='2025-10-02T17:59:36.122041+00:00', parent_config={'configurable': {'thread_id': '1', 'checkpoint_ns': '', 'checkpoint_id': '1f09fb98-ec01-66ad-bfff-cdcdb62753b4'}}, tasks=(PregelTask(id='ef11219c-3462-0ac9-ae9c-2a29cb42af08', name='node_a', path=('__pregel_pull', 'node_a'), error=None, interrupts=(), state=None, result={'foo': 'a', 'bar': ['a']}),), interrupts=()),\n",
       " StateSnapshot(values={'bar': []}, next=('__start__',), config={'configurable': {'thread_id': '1', 'checkpoint_ns': '', 'checkpoint_id': '1f09fb98-ec01-66ad-bfff-cdcdb62753b4'}}, metadata={'source': 'input', 'step': -1, 'parents': {}}, created_at='2025-10-02T17:59:36.120484+00:00', parent_config=None, tasks=(PregelTask(id='6374932c-529f-7dc1-e7b0-2830fe9befa7', name='__start__', path=('__pregel_pull', '__start__'), error=None, interrupts=(), state=None, result={'foo': ''}),), interrupts=())]"
      ]
     },
     "execution_count": 4,
     "metadata": {},
     "output_type": "execute_result"
    }
   ],
   "source": [
    "config = {\"configurable\": {\"thread_id\": \"1\"}}\n",
    "list(graph.get_state_history(config))"
   ]
  },
  {
   "cell_type": "markdown",
   "id": "e9e66c13",
   "metadata": {},
   "source": [
    "![png](03_langgraph_persistance_files/get_state.png)"
   ]
  },
  {
   "cell_type": "markdown",
   "id": "f8df3fb9",
   "metadata": {},
   "source": [
    "### Replay\n",
    "\n",
    "It's also possible to play-back a prior graph execution. If we `invoke` a graph with a `thread_id` and a `checkpoint_id`, then we will *re-play* the previously executed steps *before* a checkpoint that corresponds to the `checkpoint_id`, and only execute the steps *after* the checkpoint.\n",
    "\n",
    "* `thread_id` is the ID of a thread.\n",
    "* `checkpoint_id` is an identifier that refers to a specific checkpoint within a thread.\n",
    "\n",
    "You must pass these when invoking the graph as part of the `configurable` portion of the config:\n",
    "\n",
    "```python\n",
    "config = {\"configurable\": {\"thread_id\": \"1\", \"checkpoint_id\": \"0c62ca34-ac19-445d-bbb0-5b4984975b2a\"}}\n",
    "graph.invoke(None, config=config)\n",
    "```\n",
    "\n",
    "Importantly, LangGraph knows whether a particular step has been executed previously. If it has, LangGraph simply *re-plays* that particular step in the graph and does not re-execute the step, but only for the steps *before* the provided `checkpoint_id`. All of the steps *after* `checkpoint_id` will be executed (i.e., a new fork), even if they have been executed previously. See this [how to guide on time-travel to learn more about replaying](/oss/python/langgraph/use-time-travel).\n",
    "\n",
    "\n",
    "![png](03_langgraph_persistance_files/re_play.png)"
   ]
  },
  {
   "cell_type": "markdown",
   "id": "3a284e6e",
   "metadata": {},
   "source": [
    "### Update state\n",
    "\n",
    "In addition to re-playing the graph from specific `checkpoints`, we can also *edit* the graph state. We do this using `graph.update_state()`. This method accepts three different arguments:\n",
    "\n",
    "#### `config`\n",
    "\n",
    "The config should contain `thread_id` specifying which thread to update. When only the `thread_id` is passed, we update (or fork) the current state. Optionally, if we include `checkpoint_id` field, then we fork that selected checkpoint.\n",
    "\n",
    "#### `values`\n",
    "\n",
    "These are the values that will be used to update the state. Note that this update is treated exactly as any update from a node is treated. This means that these values will be passed to the [reducer](/oss/python/langgraph/graph-api#reducers) functions, if they are defined for some of the channels in the graph state. This means that `update_state` does NOT automatically overwrite the channel values for every channel, but only for the channels without reducers. Let's walk through an example.\n",
    "\n",
    "Let's assume you have defined the state of your graph with the following schema (see full example above):"
   ]
  },
  {
   "cell_type": "code",
   "execution_count": 5,
   "id": "fcb2a95e",
   "metadata": {},
   "outputs": [],
   "source": [
    "from typing import Annotated\n",
    "from typing_extensions import TypedDict\n",
    "from operator import add\n",
    "\n",
    "\n",
    "class State(TypedDict):\n",
    "    foo: int\n",
    "    bar: Annotated[list[str], add]"
   ]
  },
  {
   "cell_type": "markdown",
   "id": "85f31f11",
   "metadata": {},
   "source": [
    "Let's now assume the current state of the graph is\n",
    "\n",
    "```\n",
    "{\"foo\": 1, \"bar\": [\"a\"]}\n",
    "```"
   ]
  },
  {
   "cell_type": "markdown",
   "id": "b0f8597e",
   "metadata": {},
   "source": [
    "If you update the state as below:\n",
    "\n",
    "```python\n",
    "graph.update_state(config, {\"foo\": 2, \"bar\": [\"b\"]})\n",
    "```\n",
    "\n",
    "Then the new state of the graph will be:\n",
    "\n",
    "```\n",
    "{\"foo\": 2, \"bar\": [\"a\", \"b\"]}\n",
    "```\n",
    "\n",
    "The `foo` key (channel) is completely changed (because there is no reducer specified for that channel, so `update_state` overwrites it). However, there is a reducer specified for the `bar` key, and so it appends `\"b\"` to the state of `bar`."
   ]
  },
  {
   "cell_type": "markdown",
   "id": "defee7a5",
   "metadata": {},
   "source": [
    "#### `as_node`\n",
    "\n",
    "The final thing you can optionally specify when calling `update_state` is `as_node`. If you provided it, the update will be applied as if it came from node `as_node`. If `as_node` is not provided, it will be set to the last node that updated the state, if not ambiguous. The reason this matters is that the next steps to execute depend on the last node to have given an update, so this can be used to control which node executes next. See this [how to guide on time-travel to learn more about forking state](/oss/python/langgraph/use-time-travel).\n",
    "\n",
    "![png](03_langgraph_persistance_files/checkpoints_full_story.png)"
   ]
  },
  {
   "cell_type": "markdown",
   "id": "8ed4707b",
   "metadata": {},
   "source": [
    "## Memory Store"
   ]
  },
  {
   "cell_type": "markdown",
   "id": "b9be1d64",
   "metadata": {},
   "source": [
    "![png](03_langgraph_persistance_files/shared_state.png)"
   ]
  },
  {
   "cell_type": "markdown",
   "id": "acdabd31",
   "metadata": {},
   "source": [
    "A [state schema](/oss/python/langgraph/graph-api#schema) specifies a set of keys that are populated as a graph is executed. As discussed above, state can be written by a checkpointer to a thread at each graph step, enabling state persistence.\n",
    "\n",
    "But, what if we want to retain some information *across threads*? Consider the case of a chatbot where we want to retain specific information about the user across *all* chat conversations (e.g., threads) with that user!\n",
    "\n",
    "With checkpointers alone, we cannot share information across threads. This motivates the need for the [`Store`](https://python.langchain.com/api_reference/langgraph/index.html#module-langgraph.store) interface. As an illustration, we can define an `InMemoryStore` to store information about a user across threads. We simply compile our graph with a checkpointer, as before, and with our new `in_memory_store` variable.\n",
    "\n",
    "**LangGraph API handles stores automatically**\n",
    "When using the LangGraph API, you don't need to implement or configure stores manually. The API handles all storage infrastructure for you behind the scenes.\n",
    "\n",
    "First, let's showcase this in isolation without using LangGraph.\n"
   ]
  },
  {
   "cell_type": "code",
   "execution_count": 8,
   "id": "4581e24c",
   "metadata": {},
   "outputs": [],
   "source": [
    "from langgraph.store.memory import InMemoryStore\n",
    "from uuid import uuid4\n",
    "\n",
    "in_memory_store = InMemoryStore()"
   ]
  },
  {
   "cell_type": "markdown",
   "id": "c80eef00",
   "metadata": {},
   "source": [
    "Memories are namespaced by a `tuple`, which in this specific example will be `(<user_id>, \"memories\")`. The namespace can be any length and represent anything, does not have to be user specific."
   ]
  },
  {
   "cell_type": "code",
   "execution_count": 9,
   "id": "17cc0be2",
   "metadata": {},
   "outputs": [],
   "source": [
    "user_id = \"1\"\n",
    "namespace_for_memory = (user_id, \"memories\")"
   ]
  },
  {
   "cell_type": "markdown",
   "id": "dc3bc57e",
   "metadata": {},
   "source": [
    "We use the `store.put` method to save memories to our namespace in the store. When we do this, we specify the namespace, as defined above, and a key-value pair for the memory: the key is simply a unique identifier for the memory (`memory_id`) and the value (a dictionary) is the memory itself."
   ]
  },
  {
   "cell_type": "code",
   "execution_count": 10,
   "id": "2dca0de0",
   "metadata": {},
   "outputs": [],
   "source": [
    "memory_id = str(uuid4())\n",
    "memory = {\"food_preference\" : \"I like pizza\"}\n",
    "in_memory_store.put(namespace_for_memory, memory_id, memory)"
   ]
  },
  {
   "cell_type": "markdown",
   "id": "e086a049",
   "metadata": {},
   "source": [
    "We can read out memories in our namespace using the `store.search` method, which will return all memories for a given user as a list. The most recent memory is the last in the list."
   ]
  },
  {
   "cell_type": "code",
   "execution_count": 12,
   "id": "4db180cf",
   "metadata": {},
   "outputs": [
    {
     "data": {
      "text/plain": [
       "{'namespace': ['1', 'memories'],\n",
       " 'key': 'de7eafa1-d407-4ed0-ad69-dbb0a07886af',\n",
       " 'value': {'food_preference': 'I like pizza'},\n",
       " 'created_at': '2025-10-02T18:26:49.880439+00:00',\n",
       " 'updated_at': '2025-10-02T18:26:49.880440+00:00',\n",
       " 'score': None}"
      ]
     },
     "execution_count": 12,
     "metadata": {},
     "output_type": "execute_result"
    }
   ],
   "source": [
    "memories = in_memory_store.search(namespace_for_memory)\n",
    "memories[-1].dict()"
   ]
  },
  {
   "cell_type": "markdown",
   "id": "0dd0ca6d",
   "metadata": {},
   "source": [
    "Each memory type is a Python class ([`Item`](https://langchain-ai.github.io/langgraph/reference/store/#langgraph.store.base.Item)) with certain attributes. We can access it as a dictionary by converting via `.dict` as above.\n",
    "\n",
    "The attributes it has are:\n",
    "\n",
    "* `value`: The value (itself a dictionary) of this memory\n",
    "* `key`: A unique key for this memory in this namespace\n",
    "* `namespace`: A list of strings, the namespace of this memory type\n",
    "* `created_at`: Timestamp for when this memory was created\n",
    "* `updated_at`: Timestamp for when this memory was updated\n"
   ]
  },
  {
   "cell_type": "markdown",
   "id": "3b744384",
   "metadata": {},
   "source": [
    "### Semantic Search\n",
    "\n",
    "Beyond simple retrieval, the store also supports semantic search, allowing you to find memories based on meaning rather than exact matches. To enable this, configure the store with an embedding model:\n"
   ]
  },
  {
   "cell_type": "code",
   "execution_count": 15,
   "id": "3b11b3c5",
   "metadata": {},
   "outputs": [],
   "source": [
    "# Create a secret openai key input in jupyter notebook\n",
    "import os\n",
    "from getpass import getpass\n",
    "\n",
    "# Securely input OpenAI API key\n",
    "if \"OPENAI_API_KEY\" not in os.environ:\n",
    "    os.environ[\"OPENAI_API_KEY\"] = getpass(\"Enter your OpenAI API key: \")"
   ]
  },
  {
   "cell_type": "code",
   "execution_count": 16,
   "id": "96aee051",
   "metadata": {},
   "outputs": [],
   "source": [
    "from langchain.embeddings import init_embeddings\n",
    "\n",
    "store = InMemoryStore(\n",
    "    index={\n",
    "        \"embed\": init_embeddings(\"openai:text-embedding-3-small\"),  # Embedding provider\n",
    "        \"dims\": 1536,  # Embedding dimensions\n",
    "        \"fields\": [\"food_preference\", \"$\"],  # Fields to embed\n",
    "    }\n",
    ")"
   ]
  },
  {
   "cell_type": "markdown",
   "id": "30376b46",
   "metadata": {},
   "source": [
    "Now when searching, you can use natural language queries to find relevant memories:"
   ]
  },
  {
   "cell_type": "code",
   "execution_count": 17,
   "id": "6c99c435",
   "metadata": {},
   "outputs": [],
   "source": [
    "# Find memories about food preferences\n",
    "# (This can be done after putting memories into the store)\n",
    "memories = store.search(\n",
    "    namespace_for_memory,\n",
    "    query=\"What does the user like to eat?\",\n",
    "    limit=3,  # Return top 3 matches\n",
    ")"
   ]
  },
  {
   "cell_type": "markdown",
   "id": "65db7e5a",
   "metadata": {},
   "source": [
    "You can control which parts of your memories get embedded by configuring the fields parameter or by specifying the index parameter when storing memories:"
   ]
  },
  {
   "cell_type": "code",
   "execution_count": 19,
   "id": "e0639c77",
   "metadata": {},
   "outputs": [],
   "source": [
    "# Store with specific fields to embed\n",
    "store.put(\n",
    "    namespace_for_memory,\n",
    "    str(uuid4()),\n",
    "    {\"food_preference\": \"I love Italian cuisine\", \"context\": \"Discussing dinner plans\"},\n",
    "    index=[\"food_preference\"],  # Only embed \"food_preferences\" field\n",
    ")\n",
    "\n",
    "# Store without embedding (still retrievable, but not searchable)\n",
    "store.put(\n",
    "    namespace_for_memory,\n",
    "    str(uuid4()),\n",
    "    {\"system_info\": \"Last updated: 2025-10-01\"},\n",
    "    index=False,\n",
    ")"
   ]
  },
  {
   "cell_type": "markdown",
   "id": "949b8c47",
   "metadata": {},
   "source": [
    "### Using in LangGraph\n",
    "\n",
    "With this all in place, we use the `in_memory_store` in LangGraph. The `in_memory_store` works hand-in-hand with the checkpointer: the checkpointer saves state to threads, as discussed above, and the `in_memory_store` allows us to store arbitrary information for access *across* threads. We compile the graph with both the checkpointer and the `in_memory_store` as follows.\n"
   ]
  },
  {
   "cell_type": "code",
   "execution_count": null,
   "id": "96f8981f",
   "metadata": {},
   "outputs": [],
   "source": [
    "from langgraph.checkpoint.memory import InMemorySaver\n",
    "\n",
    "# We need this because we want to enable threads (conversations)\n",
    "checkpointer = InMemorySaver()\n",
    "\n",
    "# ... Define the graph ...\n",
    "\n",
    "# Compile the graph with the checkpointer and store\n",
    "graph = graph.compile(checkpointer=checkpointer, store=in_memory_store)"
   ]
  },
  {
   "cell_type": "markdown",
   "id": "2fd424de",
   "metadata": {},
   "source": [
    "We invoke the graph with a `thread_id`, as before, and also with a `user_id`, which we'll use to namespace our memories to this particular user as we showed above."
   ]
  },
  {
   "cell_type": "code",
   "execution_count": 21,
   "id": "db616567",
   "metadata": {},
   "outputs": [
    {
     "name": "stdout",
     "output_type": "stream",
     "text": [
      "{'node_a': {'foo': 'a', 'bar': ['a']}}\n",
      "{'node_b': {'foo': 'b', 'bar': ['b']}}\n"
     ]
    }
   ],
   "source": [
    "# Invoke the graph\n",
    "user_id = \"1\"\n",
    "config = {\"configurable\": {\"thread_id\": \"1\", \"user_id\": user_id}}\n",
    "\n",
    "# First let's just say hi to the AI\n",
    "for update in graph.stream(\n",
    "    {\"messages\": [{\"role\": \"user\", \"content\": \"hi\"}]}, config, stream_mode=\"updates\"\n",
    "):\n",
    "    print(update)"
   ]
  },
  {
   "cell_type": "markdown",
   "id": "ea8ec3be",
   "metadata": {},
   "source": [
    "We can access the `in_memory_store` and the `user_id` in *any node* by passing `store: BaseStore` and `config: RunnableConfig` as node arguments. Here's how we might use semantic search in a node to find relevant memories:"
   ]
  },
  {
   "cell_type": "code",
   "execution_count": 22,
   "id": "557774cd",
   "metadata": {},
   "outputs": [],
   "source": [
    "from langgraph.graph import StateGraph, MessagesState, START, END\n",
    "from langgraph.store.base import BaseStore"
   ]
  },
  {
   "cell_type": "code",
   "execution_count": 23,
   "id": "c37bf921",
   "metadata": {},
   "outputs": [],
   "source": [
    "def update_memory(state: MessagesState, config: RunnableConfig, *, store: BaseStore):\n",
    "\n",
    "    # Get the user id from the config\n",
    "    user_id = config[\"configurable\"][\"user_id\"]\n",
    "\n",
    "    # Namespace the memory\n",
    "    namespace = (user_id, \"memories\")\n",
    "\n",
    "    # ... Analyze conversation and create a new memory\n",
    "\n",
    "    # Create a new memory ID\n",
    "    memory_id = str(uuid4())\n",
    "\n",
    "    # We create a new memory\n",
    "    store.put(namespace, memory_id, {\"memory\": memory})"
   ]
  },
  {
   "cell_type": "markdown",
   "id": "ad783d5c",
   "metadata": {},
   "source": [
    "As we showed above, we can also access the store in any node and use the `store.search` method to get memories. Recall the memories are returned as a list of objects that can be converted to a dictionary."
   ]
  },
  {
   "cell_type": "code",
   "execution_count": null,
   "id": "bc1af64a",
   "metadata": {},
   "outputs": [],
   "source": [
    "memories[-1].dict()"
   ]
  },
  {
   "cell_type": "markdown",
   "id": "ca637a05",
   "metadata": {},
   "source": [
    "We can access the memories and use them in our model call."
   ]
  },
  {
   "cell_type": "code",
   "execution_count": 25,
   "id": "aca38275",
   "metadata": {},
   "outputs": [],
   "source": [
    "def call_model(state: MessagesState, config: RunnableConfig, *, store: BaseStore):\n",
    "    # Get the user id from the config\n",
    "    user_id = config[\"configurable\"][\"user_id\"]\n",
    "\n",
    "    # Namespace the memory\n",
    "    namespace = (user_id, \"memories\")\n",
    "\n",
    "    # Search based on the most recent message\n",
    "    memories = store.search(namespace, query=state[\"messages\"][-1].content, limit=3)\n",
    "    info = \"\\n\".join([d.value[\"memory\"] for d in memories])\n",
    "\n",
    "    # ... Use memories in the model call"
   ]
  },
  {
   "cell_type": "markdown",
   "id": "748caddf",
   "metadata": {},
   "source": [
    "If we create a new thread, we can still access the same memories so long as the `user_id` is the same."
   ]
  },
  {
   "cell_type": "code",
   "execution_count": 26,
   "id": "9c64f0f0",
   "metadata": {},
   "outputs": [
    {
     "name": "stdout",
     "output_type": "stream",
     "text": [
      "{'node_a': {'foo': 'a', 'bar': ['a']}}\n",
      "{'node_b': {'foo': 'b', 'bar': ['b']}}\n"
     ]
    }
   ],
   "source": [
    "# Invoke the graph\n",
    "config = {\"configurable\": {\"thread_id\": \"2\", \"user_id\": \"1\"}}\n",
    "\n",
    "# Let's say hi again\n",
    "for update in graph.stream(\n",
    "    {\"messages\": [{\"role\": \"user\", \"content\": \"hi, tell me about my memories\"}]},\n",
    "    config,\n",
    "    stream_mode=\"updates\",\n",
    "):\n",
    "    print(update)"
   ]
  },
  {
   "cell_type": "markdown",
   "id": "972dbe8f",
   "metadata": {},
   "source": [
    "When we use the LangGraph Platform, either locally (e.g., in LangGraph Studio) or with LangGraph Platform, the base store is available to use by default and does not need to be specified during graph compilation. To enable semantic search, however, you **do** need to configure the indexing settings in your `langgraph.json` file. For example:\n",
    "\n",
    "```json\n",
    "{\n",
    "    ...\n",
    "    \"store\": {\n",
    "        \"index\": {\n",
    "            \"embed\": \"openai:text-embeddings-3-small\",\n",
    "            \"dims\": 1536,\n",
    "            \"fields\": [\"$\"]\n",
    "        }\n",
    "    }\n",
    "}\n",
    "```\n",
    "\n",
    "See the [deployment guide](/langgraph-platform/semantic-search) for more details and configuration options."
   ]
  },
  {
   "cell_type": "markdown",
   "id": "ba439580",
   "metadata": {},
   "source": [
    "## Checkpointer libraries\n",
    "\n",
    "Under the hood, checkpointing is powered by checkpointer objects that conform to [BaseCheckpointSaver](https://langchain-ai.github.io/langgraph/reference/checkpoints/#langgraph.checkpoint.base.BaseCheckpointSaver) interface. LangGraph provides several checkpointer implementations, all implemented via standalone, installable libraries:\n",
    "\n",
    "* `langgraph-checkpoint`: The base interface for checkpointer savers ([BaseCheckpointSaver](https://langchain-ai.github.io/langgraph/reference/checkpoints/#langgraph.checkpoint.base.BaseCheckpointSaver)) and serialization/deserialization interface ([SerializerProtocol](https://langchain-ai.github.io/langgraph/reference/checkpoints/#langgraph.checkpoint.serde.base.SerializerProtocol)). Includes in-memory checkpointer implementation ([InMemorySaver](https://langchain-ai.github.io/langgraph/reference/checkpoints/#langgraph.checkpoint.memory.InMemorySaver)) for experimentation. LangGraph comes with `langgraph-checkpoint` included.\n",
    "* `langgraph-checkpoint-sqlite`: An implementation of LangGraph checkpointer that uses SQLite database ([SqliteSaver](https://langchain-ai.github.io/langgraph/reference/checkpoints/#langgraph.checkpoint.sqlite.SqliteSaver) / [AsyncSqliteSaver](https://langchain-ai.github.io/langgraph/reference/checkpoints/#langgraph.checkpoint.sqlite.aio.AsyncSqliteSaver)). Ideal for experimentation and local workflows. Needs to be installed separately.\n",
    "* `langgraph-checkpoint-postgres`: An advanced checkpointer that uses Postgres database ([PostgresSaver](https://langchain-ai.github.io/langgraph/reference/checkpoints/#langgraph.checkpoint.postgres.PostgresSaver) / [AsyncPostgresSaver](https://langchain-ai.github.io/langgraph/reference/checkpoints/#langgraph.checkpoint.postgres.aio.AsyncPostgresSaver)), used in LangGraph Platform. Ideal for using in production. Needs to be installed separately.\n",
    "\n",
    "### Checkpointer interface\n",
    "\n",
    "Each checkpointer conforms to [BaseCheckpointSaver](https://langchain-ai.github.io/langgraph/reference/checkpoints/#langgraph.checkpoint.base.BaseCheckpointSaver) interface and implements the following methods:\n",
    "\n",
    "* `.put` - Store a checkpoint with its configuration and metadata.\n",
    "* `.put_writes` - Store intermediate writes linked to a checkpoint (i.e. [pending writes](#pending-writes)).\n",
    "* `.get_tuple` - Fetch a checkpoint tuple using for a given configuration (`thread_id` and `checkpoint_id`). This is used to populate `StateSnapshot` in `graph.get_state()`.\n",
    "* `.list` - List checkpoints that match a given configuration and filter criteria. This is used to populate state history in `graph.get_state_history()`\n",
    "\n",
    "If the checkpointer is used with asynchronous graph execution (i.e. executing the graph via `.ainvoke`, `.astream`, `.abatch`), asynchronous versions of the above methods will be used (`.aput`, `.aput_writes`, `.aget_tuple`, `.alist`).\n",
    "\n",
    "<Note>\n",
    "  For running your graph asynchronously, you can use `InMemorySaver`, or async versions of Sqlite/Postgres checkpointers -- `AsyncSqliteSaver` / `AsyncPostgresSaver` checkpointers.\n",
    "</Note>\n",
    "\n",
    "### Serializer\n",
    "\n",
    "When checkpointers save the graph state, they need to serialize the channel values in the state. This is done using serializer objects.\n",
    "\n",
    "`langgraph_checkpoint` defines [protocol](https://langchain-ai.github.io/langgraph/reference/checkpoints/#langgraph.checkpoint.serde.base.SerializerProtocol) for implementing serializers provides a default implementation ([JsonPlusSerializer](https://langchain-ai.github.io/langgraph/reference/checkpoints/#langgraph.checkpoint.serde.jsonplus.JsonPlusSerializer)) that handles a wide variety of types, including LangChain and LangGraph primitives, datetimes, enums and more.\n",
    "\n",
    "#### Serialization with `pickle`\n",
    "\n",
    "The default serializer, [`JsonPlusSerializer`](https://langchain-ai.github.io/langgraph/reference/checkpoints/#langgraph.checkpoint.serde.jsonplus.JsonPlusSerializer), uses ormsgpack and JSON under the hood, which is not suitable for all types of objects.\n",
    "\n",
    "If you want to fallback to pickle for objects not currently supported by our msgpack encoder (such as Pandas dataframes),\n",
    "you can use the `pickle_fallback` argument of the `JsonPlusSerializer`:\n",
    "\n",
    "```python\n",
    "from langgraph.checkpoint.memory import InMemorySaver\n",
    "from langgraph.checkpoint.serde.jsonplus import JsonPlusSerializer\n",
    "\n",
    "# ... Define the graph ...\n",
    "graph.compile(\n",
    "    checkpointer=InMemorySaver(serde=JsonPlusSerializer(pickle_fallback=True))\n",
    ")\n",
    "```\n",
    "\n",
    "#### Encryption\n",
    "\n",
    "Checkpointers can optionally encrypt all persisted state. To enable this, pass an instance of [`EncryptedSerializer`](https://langchain-ai.github.io/langgraph/reference/checkpoints/#langgraph.checkpoint.serde.encrypted.EncryptedSerializer) to the `serde` argument of any `BaseCheckpointSaver` implementation. The easiest way to create an encrypted serializer is via [`from_pycryptodome_aes`](https://langchain-ai.github.io/langgraph/reference/checkpoints/#langgraph.checkpoint.serde.encrypted.EncryptedSerializer.from_pycryptodome_aes), which reads the AES key from the `LANGGRAPH_AES_KEY` environment variable (or accepts a `key` argument):\n",
    "\n",
    "```python\n",
    "import sqlite3\n",
    "\n",
    "from langgraph.checkpoint.serde.encrypted import EncryptedSerializer\n",
    "from langgraph.checkpoint.sqlite import SqliteSaver\n",
    "\n",
    "serde = EncryptedSerializer.from_pycryptodome_aes()  # reads LANGGRAPH_AES_KEY\n",
    "checkpointer = SqliteSaver(sqlite3.connect(\"checkpoint.db\"), serde=serde)\n",
    "```\n",
    "\n",
    "```python\n",
    "from langgraph.checkpoint.serde.encrypted import EncryptedSerializer\n",
    "from langgraph.checkpoint.postgres import PostgresSaver\n",
    "\n",
    "serde = EncryptedSerializer.from_pycryptodome_aes()\n",
    "checkpointer = PostgresSaver.from_conn_string(\"postgresql://...\", serde=serde)\n",
    "checkpointer.setup()\n",
    "```\n",
    "\n",
    "When running on LangGraph Platform, encryption is automatically enabled whenever `LANGGRAPH_AES_KEY` is present, so you only need to provide the environment variable. Other encryption schemes can be used by implementing [`CipherProtocol`](https://langchain-ai.github.io/langgraph/reference/checkpoints/#langgraph.checkpoint.serde.base.CipherProtocol) and supplying it to `EncryptedSerializer`.\n",
    "\n",
    "## Capabilities\n",
    "\n",
    "### Human-in-the-loop\n",
    "\n",
    "First, checkpointers facilitate [human-in-the-loop workflows](/oss/python/langgraph/add-human-in-the-loop) workflows by allowing humans to inspect, interrupt, and approve graph steps. Checkpointers are needed for these workflows as the human has to be able to view the state of a graph at any point in time, and the graph has to be to resume execution after the human has made any updates to the state. See [the how-to guides](/oss/python/langgraph/add-human-in-the-loop) for examples.\n",
    "\n",
    "### Memory\n",
    "\n",
    "Second, checkpointers allow for [\"memory\"](/oss/python/concepts/memory) between interactions. In the case of repeated human interactions (like conversations) any follow up messages can be sent to that thread, which will retain its memory of previous ones. See [Add memory](/oss/python/langgraph/add-memory) for information on how to add and manage conversation memory using checkpointers.\n",
    "\n",
    "### Time Travel\n",
    "\n",
    "Third, checkpointers allow for [\"time travel\"](/oss/python/langgraph/use-time-travel), allowing users to replay prior graph executions to review and / or debug specific graph steps. In addition, checkpointers make it possible to fork the graph state at arbitrary checkpoints to explore alternative trajectories.\n",
    "\n",
    "### Fault-tolerance\n",
    "\n",
    "Lastly, checkpointing also provides fault-tolerance and error recovery: if one or more nodes fail at a given superstep, you can restart your graph from the last successful step. Additionally, when a graph node fails mid-execution at a given superstep, LangGraph stores pending checkpoint writes from any other nodes that completed successfully at that superstep, so that whenever we resume graph execution from that superstep we don't re-run the successful nodes.\n",
    "\n",
    "#### Pending writes\n",
    "\n",
    "Additionally, when a graph node fails mid-execution at a given superstep, LangGraph stores pending checkpoint writes from any other nodes that completed successfully at that superstep, so that whenever we resume graph execution from that superstep we don't re-run the successful nodes."
   ]
  }
 ],
 "metadata": {
  "kernelspec": {
   "display_name": "venv",
   "language": "python",
   "name": "python3"
  },
  "language_info": {
   "codemirror_mode": {
    "name": "ipython",
    "version": 3
   },
   "file_extension": ".py",
   "mimetype": "text/x-python",
   "name": "python",
   "nbconvert_exporter": "python",
   "pygments_lexer": "ipython3",
   "version": "3.12.3"
  }
 },
 "nbformat": 4,
 "nbformat_minor": 5
}
